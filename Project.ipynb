# استيراد المكتبات الضرورية
import pandas as pd
import numpy as np
import matplotlib.pyplot as plt
import seaborn as sns

# تحميل البيانات
df = pd.read_csv('airbnb_data.csv')  # استبدل باسم ملفك

# معاينة البيانات
print("معاينة البيانات:")
print(df.head())
print("\nمعلومات عن البيانات:")
print(df.info())
print("\nإحصائيات عامة:")
print(df.describe())

# تنظيف البيانات
# معالجة القيم المفقودة
missing_values = df.isnull().sum()
print("\nالقيم المفقودة:")
print(missing_values)

# تعبئة القيم المفقودة أو حذفها
df['reviews_per_month'] = df['reviews_per_month'].fillna(0)  # تعبئة القيم المفقودة بـ 0
df.dropna(subset=['name', 'host_name'], inplace=True)  # حذف القيم المفقودة في الأعمدة المهمة

# إزالة التكرارات
df.drop_duplicates(inplace=True)

# التأكد من عدم وجود قيم مفقودة بعد التنظيف
print("\nالقيم المفقودة بعد التنظيف:")
print(df.isnull().sum())

# تحليل البيانات
# عدد القوائم لكل حي
neighborhood_counts = df['neighbourhood_group'].value_counts()
print("\nعدد القوائم لكل حي:")
print(neighborhood_counts)

# المتوسط العام للسعر حسب الحي
avg_price_by_neighbourhood = df.groupby('neighbourhood_group')['price'].mean()
print("\nمتوسط السعر حسب الحي:")
print(avg_price_by_neighbourhood)

# القوائم الأعلى سعراً
top_listings = df.nlargest(5, 'price')
print("\nأعلى 5 قوائم سعراً:")
print(top_listings[['name', 'neighbourhood_group', 'price', 'room_type']])

# رسم البيانات
# رسم توزيع القوائم حسب الأحياء
plt.figure(figsize=(8, 6))
neighborhood_counts.plot(kind='bar', color='skyblue')
plt.title('توزيع القوائم حسب الأحياء', fontsize=14)
plt.xlabel('الحي', fontsize=12)
plt.ylabel('عدد القوائم', fontsize=12)
plt.grid(axis='y')
plt.show()

# رسم توزيع الأسعار
plt.figure(figsize=(10, 6))
sns.boxplot(data=df, x='neighbourhood_group', y='price')
plt.title('توزيع الأسعار حسب الحي', fontsize=14)
plt.xlabel('الحي', fontsize=12)
plt.ylabel('السعر', fontsize=12)
plt.ylim(0, 1000)  # تحديد الحد الأقصى للسعر لتجنب القيم الشاذة
plt.show()

# استخراج البيانات المهمة (اختياري)
df.to_csv('cleaned_airbnb_data.csv', index=False)  # حفظ البيانات النظيفة

